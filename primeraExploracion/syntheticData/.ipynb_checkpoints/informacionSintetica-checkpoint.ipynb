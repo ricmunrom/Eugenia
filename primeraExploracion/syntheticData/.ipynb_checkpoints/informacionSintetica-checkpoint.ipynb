{
 "cells": [
  {
   "cell_type": "code",
   "execution_count": 1,
   "id": "72b0ca64",
   "metadata": {},
   "outputs": [],
   "source": [
    "import pandas as pd\n",
    "import numpy as np\n",
    "from datetime import timedelta, datetime, date"
   ]
  },
  {
   "cell_type": "code",
   "execution_count": 2,
   "id": "bb8b7972",
   "metadata": {},
   "outputs": [],
   "source": [
    "# Random seed for reproducibility\n",
    "np.random.seed(42)"
   ]
  },
  {
   "cell_type": "markdown",
   "id": "303070e3",
   "metadata": {},
   "source": [
    "# EUgENia"
   ]
  },
  {
   "cell_type": "markdown",
   "id": "036abb8f",
   "metadata": {},
   "source": [
    "## Generando Informacion SIntetica"
   ]
  },
  {
   "cell_type": "markdown",
   "id": "b3e7645f",
   "metadata": {},
   "source": [
    "### Inventario Sintetico"
   ]
  },
  {
   "cell_type": "markdown",
   "id": "399000ae",
   "metadata": {},
   "source": [
    "##### Hipotesis:\n",
    "\n",
    "0. Los bienes son no perecederos\n",
    "1. Se asume se conoce en promedio cuantas unidades se venden a la semana. En este caso se modela con una funcion de probabilidad uniforme\n",
    "2. Con base en el promedio de unidades que se venden a la semana, se sabe para cuantas semanas hay inventario"
   ]
  },
  {
   "cell_type": "code",
   "execution_count": 3,
   "id": "503a8e60",
   "metadata": {},
   "outputs": [],
   "source": [
    "# Create the parameters for the data\n",
    "n_brands = 15  # Number of brands\n",
    "skus_per_brand = 100  # SKUs per brand\n",
    "min_inventory_days = 7.0  # Minimum days of inventory\n",
    "max_inventory_days = 14.0  # Maximum days of inventory\n",
    "\n",
    "# Sales frequency settings\n",
    "sales_settings = {\n",
    "    \"low\": {\"min_daily_sales\": 1, \"max_daily_sales\": 4},\n",
    "    \"medium\": {\"min_daily_sales\": 4, \"max_daily_sales\": 8},\n",
    "    \"high\": {\"min_daily_sales\": 8, \"max_daily_sales\": 12}\n",
    "}\n",
    "\n",
    "brands = [f\"Marca_{i+1}\" for i in range(n_brands)]\n",
    "# Define specific store allocations for brands\n",
    "brand_stores = {f\"Marca_{i+1}\": 20 for i in range(3)}  # Explicitly create keys for Marca_1 to Marca_3\n",
    "# Distribute the remaining stores across the other brands\n",
    "remaining_brands = [brand for brand in brands if brand not in brand_stores]\n",
    "remaining_stores = 148 - sum(brand_stores.values())\n",
    "stores_per_remaining_brand = remaining_stores // len(remaining_brands)\n",
    "\n",
    "for brand in remaining_brands:\n",
    "    brand_stores[brand] = stores_per_remaining_brand\n",
    "\n",
    "# Account for any rounding errors in distribution\n",
    "additional_stores = remaining_stores % len(remaining_brands)\n",
    "for i in range(additional_stores):\n",
    "    brand_stores[remaining_brands[i]] += 1\n",
    "\n",
    "# Generate stores based on the brand they belong to\n",
    "stores = []\n",
    "for brand, count in brand_stores.items():\n",
    "    stores.extend([f\"Tienda_{i+1}_{brand}\" for i in range(count)])\n",
    "# Generate SKUs\n",
    "skus = {brand: [f\"SKU_{i+1}_{brand}\" for i in range(skus_per_brand)] for brand in brands}\n",
    "\n",
    "products = []\n",
    "for store in stores:\n",
    "    # Split the store name and extract the last part for the brand name\n",
    "    l = store.split('_')  # This isolates 'Marca_1', 'Marca_2', etc.\n",
    "    brand = l[2] + \"_\" + l[3]\n",
    "    for sku in skus[brand]:  # Now 'brand' should be correctly formatted like \"Marca_1\"\n",
    "        index = int(sku.split('_')[1]) % 3  # Assuming SKU format is \"SKU_{index}_{brand}\"\n",
    "        if index == 0:\n",
    "            freq_type = \"low\"\n",
    "        elif index == 1:\n",
    "            freq_type = \"medium\"\n",
    "        else:\n",
    "            freq_type = \"high\"\n",
    "\n",
    "        min_daily_sales = sales_settings[freq_type][\"min_daily_sales\"]\n",
    "        max_daily_sales = sales_settings[freq_type][\"max_daily_sales\"]\n",
    "\n",
    "        avg_daily_sales = round(np.random.uniform(min_daily_sales, max_daily_sales))\n",
    "        days_inventory = round(np.random.uniform(min_inventory_days, max_inventory_days))\n",
    "        units_in_inventory = round(avg_daily_sales * days_inventory)\n",
    "        products.append({\n",
    "            \"SKU\": sku,\n",
    "            \"Marca\": brand,\n",
    "            \"Tienda\": store,\n",
    "            \"Promedio Unidades Vendidas Diariamente\": avg_daily_sales,\n",
    "            \"Numero Dias Inventario Restante\": days_inventory,\n",
    "            \"Unidades en Inventario\": units_in_inventory,\n",
    "            \"Frecuencia\": freq_type  # Add frequency type for reference\n",
    "        })\n",
    "\n",
    "# Generate the DataFrame\n",
    "inventario_df = pd.DataFrame(products)\n",
    "\n",
    "# Add a new column \"Fecha\" with today's date\n",
    "inventario_df['Fecha Corte Inventario'] = date.today()"
   ]
  },
  {
   "cell_type": "code",
   "execution_count": 4,
   "id": "70ee007a",
   "metadata": {},
   "outputs": [
    {
     "data": {
      "text/html": [
       "<div>\n",
       "<style scoped>\n",
       "    .dataframe tbody tr th:only-of-type {\n",
       "        vertical-align: middle;\n",
       "    }\n",
       "\n",
       "    .dataframe tbody tr th {\n",
       "        vertical-align: top;\n",
       "    }\n",
       "\n",
       "    .dataframe thead th {\n",
       "        text-align: right;\n",
       "    }\n",
       "</style>\n",
       "<table border=\"1\" class=\"dataframe\">\n",
       "  <thead>\n",
       "    <tr style=\"text-align: right;\">\n",
       "      <th></th>\n",
       "      <th>SKU</th>\n",
       "      <th>Marca</th>\n",
       "      <th>Tienda</th>\n",
       "      <th>Promedio Unidades Vendidas Diariamente</th>\n",
       "      <th>Numero Dias Inventario Restante</th>\n",
       "      <th>Unidades en Inventario</th>\n",
       "      <th>Frecuencia</th>\n",
       "      <th>Fecha Corte Inventario</th>\n",
       "    </tr>\n",
       "  </thead>\n",
       "  <tbody>\n",
       "    <tr>\n",
       "      <th>0</th>\n",
       "      <td>SKU_1_Marca_1</td>\n",
       "      <td>Marca_1</td>\n",
       "      <td>Tienda_1_Marca_1</td>\n",
       "      <td>5</td>\n",
       "      <td>14</td>\n",
       "      <td>70</td>\n",
       "      <td>medium</td>\n",
       "      <td>2024-05-20</td>\n",
       "    </tr>\n",
       "  </tbody>\n",
       "</table>\n",
       "</div>"
      ],
      "text/plain": [
       "             SKU    Marca            Tienda  \\\n",
       "0  SKU_1_Marca_1  Marca_1  Tienda_1_Marca_1   \n",
       "\n",
       "   Promedio Unidades Vendidas Diariamente  Numero Dias Inventario Restante  \\\n",
       "0                                       5                               14   \n",
       "\n",
       "   Unidades en Inventario Frecuencia Fecha Corte Inventario  \n",
       "0                      70     medium             2024-05-20  "
      ]
     },
     "execution_count": 4,
     "metadata": {},
     "output_type": "execute_result"
    }
   ],
   "source": [
    "inventario_df.head(1)"
   ]
  },
  {
   "cell_type": "code",
   "execution_count": 5,
   "id": "b816cb20",
   "metadata": {},
   "outputs": [
    {
     "data": {
      "text/plain": [
       "148"
      ]
     },
     "execution_count": 5,
     "metadata": {},
     "output_type": "execute_result"
    }
   ],
   "source": [
    "len(set(inventario_df['Tienda']))"
   ]
  },
  {
   "cell_type": "code",
   "execution_count": 6,
   "id": "671091c3",
   "metadata": {},
   "outputs": [],
   "source": [
    "inventario_df.to_csv('/home/ricmunrom/Documents/jorgeLozano/EUgeNia/primeraExploracion/inputsSinteticos/inventario.csv', index = False)"
   ]
  },
  {
   "cell_type": "markdown",
   "id": "f821f588",
   "metadata": {},
   "source": [
    "### Demanda Esperada Sintetica"
   ]
  },
  {
   "cell_type": "markdown",
   "id": "84dd323d",
   "metadata": {},
   "source": [
    "##### Hipotesis:\n",
    "\n",
    "0. Se utiliza como lambda de la distribucion poisson el Promedio Unidades Venidas Diariamente para simular la demanda esperada diaria para cada SKU"
   ]
  },
  {
   "cell_type": "code",
   "execution_count": 7,
   "id": "6946cf0c",
   "metadata": {},
   "outputs": [],
   "source": [
    "# Parameters and DataFrame setup\n",
    "n_brands = 15\n",
    "skus_per_brand = 100\n",
    "days = 32  # Number of days (1 month - four weeks)\n",
    "\n",
    "# Create date range for 3 months starting from today\n",
    "start_date = date.today()\n",
    "date_range = [start_date + timedelta(days=i) for i in range(days)]\n",
    "\n",
    "# Generate expected demand DataFrame\n",
    "demand_data = []\n",
    "for index, row in inventario_df.iterrows():\n",
    "    demands = np.random.poisson(lam=row[\"Promedio Unidades Vendidas Diariamente\"], size=days)\n",
    "    for date_col, demand in zip(date_range, demands):\n",
    "        demand_data.append({\n",
    "            \"Fecha\": date_col,\n",
    "            \"SKU\": row[\"SKU\"],\n",
    "            \"Marca\": row[\"Marca\"],\n",
    "            \"Tienda\": row[\"Tienda\"],\n",
    "            \"Demanda Esperada\": demand\n",
    "        })\n",
    "\n",
    "# Create DataFrame\n",
    "demanda_esperada_df = pd.DataFrame(demand_data)\n",
    "\n",
    "# Reorder columns for better readability\n",
    "demanda_esperada_df = demanda_esperada_df[[\"Fecha\", \"SKU\", \"Marca\", \"Tienda\", \"Demanda Esperada\"]]"
   ]
  },
  {
   "cell_type": "code",
   "execution_count": 8,
   "id": "ce72c8de",
   "metadata": {},
   "outputs": [
    {
     "data": {
      "text/html": [
       "<div>\n",
       "<style scoped>\n",
       "    .dataframe tbody tr th:only-of-type {\n",
       "        vertical-align: middle;\n",
       "    }\n",
       "\n",
       "    .dataframe tbody tr th {\n",
       "        vertical-align: top;\n",
       "    }\n",
       "\n",
       "    .dataframe thead th {\n",
       "        text-align: right;\n",
       "    }\n",
       "</style>\n",
       "<table border=\"1\" class=\"dataframe\">\n",
       "  <thead>\n",
       "    <tr style=\"text-align: right;\">\n",
       "      <th></th>\n",
       "      <th>Fecha</th>\n",
       "      <th>SKU</th>\n",
       "      <th>Marca</th>\n",
       "      <th>Tienda</th>\n",
       "      <th>Demanda Esperada</th>\n",
       "    </tr>\n",
       "  </thead>\n",
       "  <tbody>\n",
       "    <tr>\n",
       "      <th>0</th>\n",
       "      <td>2024-05-20</td>\n",
       "      <td>SKU_1_Marca_1</td>\n",
       "      <td>Marca_1</td>\n",
       "      <td>Tienda_1_Marca_1</td>\n",
       "      <td>3</td>\n",
       "    </tr>\n",
       "  </tbody>\n",
       "</table>\n",
       "</div>"
      ],
      "text/plain": [
       "        Fecha            SKU    Marca            Tienda  Demanda Esperada\n",
       "0  2024-05-20  SKU_1_Marca_1  Marca_1  Tienda_1_Marca_1                 3"
      ]
     },
     "execution_count": 8,
     "metadata": {},
     "output_type": "execute_result"
    }
   ],
   "source": [
    "demanda_esperada_df.head(1)"
   ]
  },
  {
   "cell_type": "code",
   "execution_count": 9,
   "id": "66a5a219",
   "metadata": {},
   "outputs": [
    {
     "data": {
      "text/html": [
       "<div>\n",
       "<style scoped>\n",
       "    .dataframe tbody tr th:only-of-type {\n",
       "        vertical-align: middle;\n",
       "    }\n",
       "\n",
       "    .dataframe tbody tr th {\n",
       "        vertical-align: top;\n",
       "    }\n",
       "\n",
       "    .dataframe thead th {\n",
       "        text-align: right;\n",
       "    }\n",
       "</style>\n",
       "<table border=\"1\" class=\"dataframe\">\n",
       "  <thead>\n",
       "    <tr style=\"text-align: right;\">\n",
       "      <th></th>\n",
       "      <th>Fecha</th>\n",
       "      <th>SKU</th>\n",
       "      <th>Marca</th>\n",
       "      <th>Tienda</th>\n",
       "      <th>Demanda Esperada</th>\n",
       "    </tr>\n",
       "  </thead>\n",
       "  <tbody>\n",
       "    <tr>\n",
       "      <th>473599</th>\n",
       "      <td>2024-06-20</td>\n",
       "      <td>SKU_100_Marca_15</td>\n",
       "      <td>Marca_15</td>\n",
       "      <td>Tienda_7_Marca_15</td>\n",
       "      <td>11</td>\n",
       "    </tr>\n",
       "  </tbody>\n",
       "</table>\n",
       "</div>"
      ],
      "text/plain": [
       "             Fecha               SKU     Marca             Tienda  \\\n",
       "473599  2024-06-20  SKU_100_Marca_15  Marca_15  Tienda_7_Marca_15   \n",
       "\n",
       "        Demanda Esperada  \n",
       "473599                11  "
      ]
     },
     "execution_count": 9,
     "metadata": {},
     "output_type": "execute_result"
    }
   ],
   "source": [
    "demanda_esperada_df.tail(1)"
   ]
  },
  {
   "cell_type": "code",
   "execution_count": 10,
   "id": "8c9368a4",
   "metadata": {},
   "outputs": [
    {
     "data": {
      "text/plain": [
       "(473600, 5)"
      ]
     },
     "execution_count": 10,
     "metadata": {},
     "output_type": "execute_result"
    }
   ],
   "source": [
    "demanda_esperada_df.shape"
   ]
  },
  {
   "cell_type": "code",
   "execution_count": 11,
   "id": "53d82a29",
   "metadata": {},
   "outputs": [],
   "source": [
    "demanda_esperada_df.to_csv('/home/ricmunrom/Documents/jorgeLozano/EUgeNia/primeraExploracion/inputsSinteticos/demandaEsperada.csv', index = False)"
   ]
  },
  {
   "cell_type": "code",
   "execution_count": null,
   "id": "d0376bcb",
   "metadata": {},
   "outputs": [],
   "source": []
  },
  {
   "cell_type": "markdown",
   "id": "b4567756",
   "metadata": {},
   "source": [
    "### CEDI sintetico"
   ]
  },
  {
   "cell_type": "markdown",
   "id": "68547f36",
   "metadata": {},
   "source": [
    "##### Hipotesis\n",
    "\n",
    "Existe un unico Centro de Distribucion donde se reciben los volumenes solicitados por las ordenes de compra. Se asume que el punto de partida del inventario en CEDI de cada SKU es una cuarta parte de la suma de todas las unidades en Inventario entre todas las tiendas de ese SKU"
   ]
  },
  {
   "cell_type": "code",
   "execution_count": 12,
   "id": "1771320d",
   "metadata": {},
   "outputs": [],
   "source": [
    "# Ensure all_skus list is available; otherwise, generate it from inventario_df\n",
    "all_skus = inventario_df['SKU'].unique()\n",
    "\n",
    "# Initialize the list to store the data for the new DataFrame\n",
    "cedi_data = []\n",
    "\n",
    "# Iterate over each SKU to calculate the mean units in inventory\n",
    "for sku in all_skus:\n",
    "    # Find the sum units in inventory of all stores for the SKU\n",
    "    sum_units = inventario_df[inventario_df['SKU'] == sku]['Unidades en Inventario'].sum()\n",
    "    \n",
    "    # Generate a random number around this sum divided by nothing (you might adjust the method based on your requirements)\n",
    "    unidades = np.random.poisson(lam=sum_units)\n",
    "    \n",
    "    # Append the data to the list\n",
    "    cedi_data.append({\n",
    "        \"SKU\": sku,\n",
    "        \"Unidades Disponible\": unidades,\n",
    "        \"Fecha\": date.today()\n",
    "    })\n",
    "\n",
    "# Create DataFrame from the data\n",
    "CEDI_df = pd.DataFrame(cedi_data)\n",
    "\n",
    "#CEDI_df = pd.pivot_table(CEDI_df, values = 'Unidades Disponible', index= 'SKU', columns = 'Fecha')"
   ]
  },
  {
   "cell_type": "code",
   "execution_count": 13,
   "id": "cacf9535",
   "metadata": {},
   "outputs": [
    {
     "data": {
      "text/html": [
       "<div>\n",
       "<style scoped>\n",
       "    .dataframe tbody tr th:only-of-type {\n",
       "        vertical-align: middle;\n",
       "    }\n",
       "\n",
       "    .dataframe tbody tr th {\n",
       "        vertical-align: top;\n",
       "    }\n",
       "\n",
       "    .dataframe thead th {\n",
       "        text-align: right;\n",
       "    }\n",
       "</style>\n",
       "<table border=\"1\" class=\"dataframe\">\n",
       "  <thead>\n",
       "    <tr style=\"text-align: right;\">\n",
       "      <th></th>\n",
       "      <th>SKU</th>\n",
       "      <th>Unidades Disponible</th>\n",
       "      <th>Fecha</th>\n",
       "    </tr>\n",
       "  </thead>\n",
       "  <tbody>\n",
       "    <tr>\n",
       "      <th>0</th>\n",
       "      <td>SKU_1_Marca_1</td>\n",
       "      <td>1191</td>\n",
       "      <td>2024-05-20</td>\n",
       "    </tr>\n",
       "    <tr>\n",
       "      <th>1</th>\n",
       "      <td>SKU_2_Marca_1</td>\n",
       "      <td>2098</td>\n",
       "      <td>2024-05-20</td>\n",
       "    </tr>\n",
       "    <tr>\n",
       "      <th>2</th>\n",
       "      <td>SKU_3_Marca_1</td>\n",
       "      <td>515</td>\n",
       "      <td>2024-05-20</td>\n",
       "    </tr>\n",
       "    <tr>\n",
       "      <th>3</th>\n",
       "      <td>SKU_4_Marca_1</td>\n",
       "      <td>1360</td>\n",
       "      <td>2024-05-20</td>\n",
       "    </tr>\n",
       "    <tr>\n",
       "      <th>4</th>\n",
       "      <td>SKU_5_Marca_1</td>\n",
       "      <td>2008</td>\n",
       "      <td>2024-05-20</td>\n",
       "    </tr>\n",
       "    <tr>\n",
       "      <th>...</th>\n",
       "      <td>...</td>\n",
       "      <td>...</td>\n",
       "      <td>...</td>\n",
       "    </tr>\n",
       "    <tr>\n",
       "      <th>1495</th>\n",
       "      <td>SKU_96_Marca_15</td>\n",
       "      <td>197</td>\n",
       "      <td>2024-05-20</td>\n",
       "    </tr>\n",
       "    <tr>\n",
       "      <th>1496</th>\n",
       "      <td>SKU_97_Marca_15</td>\n",
       "      <td>433</td>\n",
       "      <td>2024-05-20</td>\n",
       "    </tr>\n",
       "    <tr>\n",
       "      <th>1497</th>\n",
       "      <td>SKU_98_Marca_15</td>\n",
       "      <td>616</td>\n",
       "      <td>2024-05-20</td>\n",
       "    </tr>\n",
       "    <tr>\n",
       "      <th>1498</th>\n",
       "      <td>SKU_99_Marca_15</td>\n",
       "      <td>142</td>\n",
       "      <td>2024-05-20</td>\n",
       "    </tr>\n",
       "    <tr>\n",
       "      <th>1499</th>\n",
       "      <td>SKU_100_Marca_15</td>\n",
       "      <td>402</td>\n",
       "      <td>2024-05-20</td>\n",
       "    </tr>\n",
       "  </tbody>\n",
       "</table>\n",
       "<p>1500 rows × 3 columns</p>\n",
       "</div>"
      ],
      "text/plain": [
       "                   SKU  Unidades Disponible       Fecha\n",
       "0        SKU_1_Marca_1                 1191  2024-05-20\n",
       "1        SKU_2_Marca_1                 2098  2024-05-20\n",
       "2        SKU_3_Marca_1                  515  2024-05-20\n",
       "3        SKU_4_Marca_1                 1360  2024-05-20\n",
       "4        SKU_5_Marca_1                 2008  2024-05-20\n",
       "...                ...                  ...         ...\n",
       "1495   SKU_96_Marca_15                  197  2024-05-20\n",
       "1496   SKU_97_Marca_15                  433  2024-05-20\n",
       "1497   SKU_98_Marca_15                  616  2024-05-20\n",
       "1498   SKU_99_Marca_15                  142  2024-05-20\n",
       "1499  SKU_100_Marca_15                  402  2024-05-20\n",
       "\n",
       "[1500 rows x 3 columns]"
      ]
     },
     "execution_count": 13,
     "metadata": {},
     "output_type": "execute_result"
    }
   ],
   "source": [
    "CEDI_df"
   ]
  },
  {
   "cell_type": "code",
   "execution_count": 14,
   "id": "d9ae0961",
   "metadata": {},
   "outputs": [],
   "source": [
    "CEDI_df.to_csv('/home/ricmunrom/Documents/jorgeLozano/EUgeNia/primeraExploracion/inputsSinteticos/CEDI.csv', index = False)"
   ]
  },
  {
   "cell_type": "code",
   "execution_count": null,
   "id": "c05adb90",
   "metadata": {},
   "outputs": [],
   "source": []
  },
  {
   "cell_type": "markdown",
   "id": "9f176ce2",
   "metadata": {},
   "source": [
    "### Lead Times Sinteticos"
   ]
  },
  {
   "cell_type": "markdown",
   "id": "b8eb44ed",
   "metadata": {},
   "source": [
    "##### Hipotesis:\n",
    "\n",
    "0. Se deben generar los mismos SKUs para las mismas marcas, resultando en 80 SKUs diferentes (8 SKUs por 10 marcas).\n",
    "1. Se deben generar al menos 100 órdenes de compra.\n",
    "2. Cada orden de compra debe incluir una selección aleatoria de entre 33 y 66 SKUs de los 80 disponibles.\n",
    "3. La fecha de la orden de compra para cada orden debe ser una fecha aleatoria.\n",
    "4. La fecha de recepción de mercancía para cada orden debe ser también una fecha aleatoria, pero posterior a la fecha de la orden de compra.\n",
    "5. La columna de \"Lead Time\" debe ser un número aleatorio entero entre 7 y 31 días y debe corresponder a la diferencia en días entre la fecha de orden de compra y la fecha de recepción de mercancía.\n",
    "6. El \"Volumen Solicitado\" para cada SKU en cada orden de compra debe determinarse usando una función de distribución de Poisson, con un lambda igual al doble del valor encontrado en \"Promedio Unidades Vendidas Semanalmente\" para ese SKU en `inventario_df`.\n",
    "7. El \"Volumen Recibido\" para cada SKU en cada orden de compra debe ser un número aleatorio entre 0 y el \"Volumen Solicitado\".\n",
    "8. La \"Fiabilidad\" se calcula como la división del \"Volumen Recibido\" entre el \"Volumen Solicitado\", multiplicado por 100 para obtener un porcentaje."
   ]
  },
  {
   "cell_type": "code",
   "execution_count": 15,
   "id": "81b5aeb3",
   "metadata": {},
   "outputs": [
    {
     "name": "stdout",
     "output_type": "stream",
     "text": [
      "                SKU  Demanda Esperada  Unidades en Inventario  \\\n",
      "0   SKU_100_Marca_1              3637                    1194   \n",
      "1  SKU_100_Marca_10              1602                     548   \n",
      "2  SKU_100_Marca_11              1432                     399   \n",
      "3  SKU_100_Marca_12              1380                     553   \n",
      "4  SKU_100_Marca_13              1527                     477   \n",
      "\n",
      "   Unidades Disponible  Adjusted Demand  \n",
      "0                 1191             1252  \n",
      "1                  503              551  \n",
      "2                  371              662  \n",
      "3                  557              270  \n",
      "4                  462              588  \n"
     ]
    }
   ],
   "source": [
    "# Suponiendo que demanda_esperada_df, inventario_df y CEDI_df ya están definidos\n",
    "\n",
    "# Set the order date to 2024-05-13\n",
    "order_date = datetime(2024, 5, 13)\n",
    "\n",
    "# Calculate the total expected demand for each SKU across all stores\n",
    "total_demand_per_sku = demanda_esperada_df.groupby(\"SKU\")[\"Demanda Esperada\"].sum().reset_index()\n",
    "\n",
    "# Merge with inventory data to get total inventory per SKU across all stores\n",
    "total_inventory_per_sku = inventario_df.groupby(\"SKU\")[\"Unidades en Inventario\"].sum().reset_index()\n",
    "total_demand_per_sku = total_demand_per_sku.merge(total_inventory_per_sku, on=\"SKU\", how=\"left\").fillna(0)\n",
    "\n",
    "# Merge with CEDI inventory data to get total inventory in CEDI for each SKU\n",
    "total_demand_per_sku = total_demand_per_sku.merge(CEDI_df[[\"SKU\", \"Unidades Disponible\"]], on=\"SKU\", how=\"left\").fillna(0)\n",
    "\n",
    "# Adjust demand based on inventory levels\n",
    "total_demand_per_sku[\"Adjusted Demand\"] = total_demand_per_sku[\"Demanda Esperada\"] - total_demand_per_sku[\"Unidades en Inventario\"] - total_demand_per_sku[\"Unidades Disponible\"]\n",
    "total_demand_per_sku[\"Adjusted Demand\"] = total_demand_per_sku[\"Adjusted Demand\"].apply(lambda x: max(x, 0))  # Ensure no negative demand\n",
    "\n",
    "# Verify adjusted demands\n",
    "print(total_demand_per_sku[['SKU', 'Demanda Esperada', 'Unidades en Inventario', 'Unidades Disponible', 'Adjusted Demand']].head())\n",
    "\n",
    "# Generate the purchase order\n",
    "orders_data = []\n",
    "\n",
    "for index, row in total_demand_per_sku.iterrows():\n",
    "    sku = row[\"SKU\"]\n",
    "    adjusted_demand = row[\"Adjusted Demand\"]\n",
    "    lead_time_days = np.random.randint(1, 4)  # Lead time between 1 and 3 days\n",
    "    reception_date = order_date + timedelta(days=lead_time_days)\n",
    "    volume_requested = adjusted_demand\n",
    "    # Assuming 100% reliability\n",
    "    #volume_received = volume_requested\n",
    "    # Assuming reliability at 90%\n",
    "    volume_received = int(volume_requested * 0.90 + np.random.uniform(-0.1, 0.1) * volume_requested)  # Adjust to achieve average reliability of 90%\n",
    "    reliability = (volume_received / volume_requested) * 100 if volume_requested > 0 else 0\n",
    "\n",
    "    orders_data.append({\n",
    "        \"SKU\": sku,\n",
    "        \"Marca\": sku.split('_')[2] + '_' + sku.split('_')[3],  # Correct extraction of brand from SKU\n",
    "        \"ID Orden de Compra\": \"OC_1\",\n",
    "        \"Fecha Orden de Compra\": order_date,\n",
    "        \"Fecha Recepcion Mercancia\": reception_date,\n",
    "        \"Lead Time en Dias\": lead_time_days,\n",
    "        \"Volumen Solicitado\": volume_requested,\n",
    "        \"Volumen Recibido\": volume_received,\n",
    "        \"Fiabilidad\": reliability\n",
    "    })\n",
    "\n",
    "ordenes_compra_df = pd.DataFrame(orders_data)"
   ]
  },
  {
   "cell_type": "code",
   "execution_count": 16,
   "id": "e233bae1",
   "metadata": {},
   "outputs": [
    {
     "data": {
      "text/html": [
       "<div>\n",
       "<style scoped>\n",
       "    .dataframe tbody tr th:only-of-type {\n",
       "        vertical-align: middle;\n",
       "    }\n",
       "\n",
       "    .dataframe tbody tr th {\n",
       "        vertical-align: top;\n",
       "    }\n",
       "\n",
       "    .dataframe thead th {\n",
       "        text-align: right;\n",
       "    }\n",
       "</style>\n",
       "<table border=\"1\" class=\"dataframe\">\n",
       "  <thead>\n",
       "    <tr style=\"text-align: right;\">\n",
       "      <th></th>\n",
       "      <th>SKU</th>\n",
       "      <th>Marca</th>\n",
       "      <th>ID Orden de Compra</th>\n",
       "      <th>Fecha Orden de Compra</th>\n",
       "      <th>Fecha Recepcion Mercancia</th>\n",
       "      <th>Lead Time en Dias</th>\n",
       "      <th>Volumen Solicitado</th>\n",
       "      <th>Volumen Recibido</th>\n",
       "      <th>Fiabilidad</th>\n",
       "    </tr>\n",
       "  </thead>\n",
       "  <tbody>\n",
       "    <tr>\n",
       "      <th>0</th>\n",
       "      <td>SKU_100_Marca_1</td>\n",
       "      <td>Marca_1</td>\n",
       "      <td>OC_1</td>\n",
       "      <td>2024-05-13</td>\n",
       "      <td>2024-05-14</td>\n",
       "      <td>1</td>\n",
       "      <td>1252</td>\n",
       "      <td>1207</td>\n",
       "      <td>96.405751</td>\n",
       "    </tr>\n",
       "    <tr>\n",
       "      <th>1</th>\n",
       "      <td>SKU_100_Marca_10</td>\n",
       "      <td>Marca_10</td>\n",
       "      <td>OC_1</td>\n",
       "      <td>2024-05-13</td>\n",
       "      <td>2024-05-15</td>\n",
       "      <td>2</td>\n",
       "      <td>551</td>\n",
       "      <td>468</td>\n",
       "      <td>84.936479</td>\n",
       "    </tr>\n",
       "    <tr>\n",
       "      <th>2</th>\n",
       "      <td>SKU_100_Marca_11</td>\n",
       "      <td>Marca_11</td>\n",
       "      <td>OC_1</td>\n",
       "      <td>2024-05-13</td>\n",
       "      <td>2024-05-14</td>\n",
       "      <td>1</td>\n",
       "      <td>662</td>\n",
       "      <td>593</td>\n",
       "      <td>89.577039</td>\n",
       "    </tr>\n",
       "    <tr>\n",
       "      <th>3</th>\n",
       "      <td>SKU_100_Marca_12</td>\n",
       "      <td>Marca_12</td>\n",
       "      <td>OC_1</td>\n",
       "      <td>2024-05-13</td>\n",
       "      <td>2024-05-14</td>\n",
       "      <td>1</td>\n",
       "      <td>270</td>\n",
       "      <td>222</td>\n",
       "      <td>82.222222</td>\n",
       "    </tr>\n",
       "    <tr>\n",
       "      <th>4</th>\n",
       "      <td>SKU_100_Marca_13</td>\n",
       "      <td>Marca_13</td>\n",
       "      <td>OC_1</td>\n",
       "      <td>2024-05-13</td>\n",
       "      <td>2024-05-14</td>\n",
       "      <td>1</td>\n",
       "      <td>588</td>\n",
       "      <td>498</td>\n",
       "      <td>84.693878</td>\n",
       "    </tr>\n",
       "    <tr>\n",
       "      <th>...</th>\n",
       "      <td>...</td>\n",
       "      <td>...</td>\n",
       "      <td>...</td>\n",
       "      <td>...</td>\n",
       "      <td>...</td>\n",
       "      <td>...</td>\n",
       "      <td>...</td>\n",
       "      <td>...</td>\n",
       "      <td>...</td>\n",
       "    </tr>\n",
       "    <tr>\n",
       "      <th>1495</th>\n",
       "      <td>SKU_9_Marca_5</td>\n",
       "      <td>Marca_5</td>\n",
       "      <td>OC_1</td>\n",
       "      <td>2024-05-13</td>\n",
       "      <td>2024-05-14</td>\n",
       "      <td>1</td>\n",
       "      <td>249</td>\n",
       "      <td>239</td>\n",
       "      <td>95.983936</td>\n",
       "    </tr>\n",
       "    <tr>\n",
       "      <th>1496</th>\n",
       "      <td>SKU_9_Marca_6</td>\n",
       "      <td>Marca_6</td>\n",
       "      <td>OC_1</td>\n",
       "      <td>2024-05-13</td>\n",
       "      <td>2024-05-15</td>\n",
       "      <td>2</td>\n",
       "      <td>202</td>\n",
       "      <td>186</td>\n",
       "      <td>92.079208</td>\n",
       "    </tr>\n",
       "    <tr>\n",
       "      <th>1497</th>\n",
       "      <td>SKU_9_Marca_7</td>\n",
       "      <td>Marca_7</td>\n",
       "      <td>OC_1</td>\n",
       "      <td>2024-05-13</td>\n",
       "      <td>2024-05-16</td>\n",
       "      <td>3</td>\n",
       "      <td>225</td>\n",
       "      <td>202</td>\n",
       "      <td>89.777778</td>\n",
       "    </tr>\n",
       "    <tr>\n",
       "      <th>1498</th>\n",
       "      <td>SKU_9_Marca_8</td>\n",
       "      <td>Marca_8</td>\n",
       "      <td>OC_1</td>\n",
       "      <td>2024-05-13</td>\n",
       "      <td>2024-05-14</td>\n",
       "      <td>1</td>\n",
       "      <td>156</td>\n",
       "      <td>134</td>\n",
       "      <td>85.897436</td>\n",
       "    </tr>\n",
       "    <tr>\n",
       "      <th>1499</th>\n",
       "      <td>SKU_9_Marca_9</td>\n",
       "      <td>Marca_9</td>\n",
       "      <td>OC_1</td>\n",
       "      <td>2024-05-13</td>\n",
       "      <td>2024-05-15</td>\n",
       "      <td>2</td>\n",
       "      <td>142</td>\n",
       "      <td>122</td>\n",
       "      <td>85.915493</td>\n",
       "    </tr>\n",
       "  </tbody>\n",
       "</table>\n",
       "<p>1500 rows × 9 columns</p>\n",
       "</div>"
      ],
      "text/plain": [
       "                   SKU     Marca ID Orden de Compra Fecha Orden de Compra  \\\n",
       "0      SKU_100_Marca_1   Marca_1               OC_1            2024-05-13   \n",
       "1     SKU_100_Marca_10  Marca_10               OC_1            2024-05-13   \n",
       "2     SKU_100_Marca_11  Marca_11               OC_1            2024-05-13   \n",
       "3     SKU_100_Marca_12  Marca_12               OC_1            2024-05-13   \n",
       "4     SKU_100_Marca_13  Marca_13               OC_1            2024-05-13   \n",
       "...                ...       ...                ...                   ...   \n",
       "1495     SKU_9_Marca_5   Marca_5               OC_1            2024-05-13   \n",
       "1496     SKU_9_Marca_6   Marca_6               OC_1            2024-05-13   \n",
       "1497     SKU_9_Marca_7   Marca_7               OC_1            2024-05-13   \n",
       "1498     SKU_9_Marca_8   Marca_8               OC_1            2024-05-13   \n",
       "1499     SKU_9_Marca_9   Marca_9               OC_1            2024-05-13   \n",
       "\n",
       "     Fecha Recepcion Mercancia  Lead Time en Dias  Volumen Solicitado  \\\n",
       "0                   2024-05-14                  1                1252   \n",
       "1                   2024-05-15                  2                 551   \n",
       "2                   2024-05-14                  1                 662   \n",
       "3                   2024-05-14                  1                 270   \n",
       "4                   2024-05-14                  1                 588   \n",
       "...                        ...                ...                 ...   \n",
       "1495                2024-05-14                  1                 249   \n",
       "1496                2024-05-15                  2                 202   \n",
       "1497                2024-05-16                  3                 225   \n",
       "1498                2024-05-14                  1                 156   \n",
       "1499                2024-05-15                  2                 142   \n",
       "\n",
       "      Volumen Recibido  Fiabilidad  \n",
       "0                 1207   96.405751  \n",
       "1                  468   84.936479  \n",
       "2                  593   89.577039  \n",
       "3                  222   82.222222  \n",
       "4                  498   84.693878  \n",
       "...                ...         ...  \n",
       "1495               239   95.983936  \n",
       "1496               186   92.079208  \n",
       "1497               202   89.777778  \n",
       "1498               134   85.897436  \n",
       "1499               122   85.915493  \n",
       "\n",
       "[1500 rows x 9 columns]"
      ]
     },
     "execution_count": 16,
     "metadata": {},
     "output_type": "execute_result"
    }
   ],
   "source": [
    "ordenes_compra_df"
   ]
  },
  {
   "cell_type": "code",
   "execution_count": 17,
   "id": "6e410180",
   "metadata": {},
   "outputs": [
    {
     "data": {
      "text/plain": [
       "90.14264274785427"
      ]
     },
     "execution_count": 17,
     "metadata": {},
     "output_type": "execute_result"
    }
   ],
   "source": [
    "ordenes_compra_df['Fiabilidad'].mean()"
   ]
  },
  {
   "cell_type": "code",
   "execution_count": 18,
   "id": "75d84f76",
   "metadata": {},
   "outputs": [
    {
     "data": {
      "text/plain": [
       "1.9853333333333334"
      ]
     },
     "execution_count": 18,
     "metadata": {},
     "output_type": "execute_result"
    }
   ],
   "source": [
    "ordenes_compra_df['Lead Time en Dias'].mean()"
   ]
  },
  {
   "cell_type": "code",
   "execution_count": 19,
   "id": "6fd9ef34",
   "metadata": {},
   "outputs": [],
   "source": [
    "ordenes_compra_df.to_csv('/home/ricmunrom/Documents/jorgeLozano/EUgeNia/primeraExploracion/inputsSinteticos/ordenesCompra.csv', index = False)"
   ]
  },
  {
   "cell_type": "code",
   "execution_count": null,
   "id": "d4227288",
   "metadata": {},
   "outputs": [],
   "source": []
  },
  {
   "cell_type": "code",
   "execution_count": null,
   "id": "9fa8532f",
   "metadata": {},
   "outputs": [],
   "source": []
  },
  {
   "cell_type": "code",
   "execution_count": null,
   "id": "99f4779d",
   "metadata": {},
   "outputs": [],
   "source": []
  },
  {
   "cell_type": "code",
   "execution_count": null,
   "id": "afef8266",
   "metadata": {},
   "outputs": [],
   "source": []
  }
 ],
 "metadata": {
  "kernelspec": {
   "display_name": "Python 3 (ipykernel)",
   "language": "python",
   "name": "python3"
  },
  "language_info": {
   "codemirror_mode": {
    "name": "ipython",
    "version": 3
   },
   "file_extension": ".py",
   "mimetype": "text/x-python",
   "name": "python",
   "nbconvert_exporter": "python",
   "pygments_lexer": "ipython3",
   "version": "3.11.4"
  }
 },
 "nbformat": 4,
 "nbformat_minor": 5
}
